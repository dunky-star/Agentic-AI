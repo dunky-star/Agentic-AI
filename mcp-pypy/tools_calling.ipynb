{
 "cells": [
  {
   "metadata": {
    "ExecuteTime": {
     "end_time": "2025-07-31T06:42:15.018092Z",
     "start_time": "2025-07-31T06:42:14.940309Z"
    }
   },
   "cell_type": "code",
   "source": [
    "from typing import Any, Dict\n",
    "import requests\n",
    "\n",
    "# Define function\n",
    "def get_crypto_price(symbol: str) -> Dict[str, Any]:\n",
    "    \"\"\"Get the price of a cryptocurrency from a Binance API endpoint.\"\"\"\n",
    "    url = f\"https://api.binance.com/api/v3/ticker/price?symbol={symbol.upper()}\"\n",
    "    response = requests.get(url)\n",
    "    response.raise_for_status()  # Raise an error for bad responses\n",
    "    data = response.json()\n",
    "    return {\"price\": data[\"price\"]}\n"
   ],
   "id": "4cc3ef44729bf3e7",
   "outputs": [
    {
     "name": "stderr",
     "output_type": "stream",
     "text": [
      "/Users/user/Library/Python/3.9/lib/python/site-packages/urllib3/__init__.py:35: NotOpenSSLWarning: urllib3 v2 only supports OpenSSL 1.1.1+, currently the 'ssl' module is compiled with 'LibreSSL 2.8.3'. See: https://github.com/urllib3/urllib3/issues/3020\n",
      "  warnings.warn(\n"
     ]
    }
   ],
   "execution_count": 1
  },
  {
   "metadata": {
    "ExecuteTime": {
     "end_time": "2025-07-31T06:44:21.305782Z",
     "start_time": "2025-07-31T06:44:21.300568Z"
    }
   },
   "cell_type": "code",
   "source": [
    "tools = [\n",
    "    {\n",
    "        \"name\": \"get_crypto_price\",\n",
    "        \"description\": \"Get cryptocurrency price in USDT from Binance\",\n",
    "        \"parameters\": {\n",
    "            \"type\": \"object\",\n",
    "            \"properties\": {\n",
    "                \"symbol\": {\n",
    "                    \"type\": \"string\",\n",
    "                    \"description\": (\n",
    "                        \"The cryptocurrency trading pair symbol (e.g., BTCUSDT, ETHUSDT). \"\n",
    "                        \"The symbol for Bitcoin is BTCUSDT. The symbol for Ethereum is ETHUSDT.\"\n",
    "                    )\n",
    "                }\n",
    "            },\n",
    "            \"required\": [\"symbol\"]\n",
    "        }\n",
    "    }\n",
    "]\n"
   ],
   "id": "878306fe0eccc921",
   "outputs": [],
   "execution_count": 2
  },
  {
   "metadata": {
    "ExecuteTime": {
     "end_time": "2025-07-31T06:49:51.136623Z",
     "start_time": "2025-07-31T06:49:51.129124Z"
    }
   },
   "cell_type": "code",
   "source": [
    "import os\n",
    "from dotenv import load_dotenv\n",
    "import google.generativeai as genai\n",
    "\n",
    "# Load environment variables from .env file\n",
    "load_dotenv()\n",
    "api_key = os.getenv(\"GEMINI_API_KEY\")\n",
    "\n",
    "if not api_key:\n",
    "    raise ValueError(\"❌ GEMINI_API_KEY not found in your .env file. Please add yours!\")\n",
    "\n",
    "genai.configure(api_key=api_key)\n",
    "\n",
    "# Load Gemini model\n",
    "model = genai.GenerativeModel(\"gemini-1.5-flash\")\n",
    "print(\"✅ Gemini model loaded successfully:\", model._model_name)"
   ],
   "id": "6fcf8f2872485d44",
   "outputs": [
    {
     "name": "stdout",
     "output_type": "stream",
     "text": [
      "✅ Gemini model loaded successfully: models/gemini-1.5-flash\n"
     ]
    }
   ],
   "execution_count": 4
  },
  {
   "metadata": {
    "jupyter": {
     "is_executing": true
    },
    "ExecuteTime": {
     "start_time": "2025-07-31T06:52:29.792526Z"
    }
   },
   "cell_type": "code",
   "source": [
    "# PROMPT\n",
    "PROMPT = \"What is the current price of Bitcoin?\"\n",
    "\n",
    "# Define tools before this step (assumed already done)\n",
    "chat = model.start_chat()\n",
    "response = chat.send_message(PROMPT)\n",
    "print(response)"
   ],
   "id": "9c7598377e086796",
   "outputs": [],
   "execution_count": null
  }
 ],
 "metadata": {},
 "nbformat": 4,
 "nbformat_minor": 5
}
